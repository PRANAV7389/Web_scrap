{
 "cells": [
  {
   "cell_type": "code",
   "execution_count": 112,
   "id": "e92cb754",
   "metadata": {},
   "outputs": [],
   "source": [
    "from selenium import webdriver\n",
    "from selenium.webdriver.chrome.options import Options\n",
    "import pandas as pd\n",
    "import time"
   ]
  },
  {
   "cell_type": "code",
   "execution_count": 113,
   "id": "3eb99eff",
   "metadata": {},
   "outputs": [],
   "source": [
    "options = Options()\n",
    "options.headless = True\n",
    "options.add_argument('window_size=1920x1080')"
   ]
  },
  {
   "cell_type": "code",
   "execution_count": 114,
   "id": "b1244f3b",
   "metadata": {},
   "outputs": [],
   "source": [
    "web = \"https://www.audible.in/search?node=21881927031&sort=popularity-rank&ref_pageloadid=u0VsquFqGJocVubh&ref=a_cat_Liter_c8_showmore&pf_rd_p=be4f74e4-9068-42fd-9319-73eb8b0c879a&pf_rd_r=YPEPTZYGNEY2RY0QBZP4&pageLoadId=KWRgnCKn9id9CUvW&ref_plink=not_applicable&creativeId=fa240ef5-2ebf-4f43-b1b1-11c01bce5b1b\""
   ]
  },
  {
   "cell_type": "code",
   "execution_count": 115,
   "id": "e756d860",
   "metadata": {},
   "outputs": [],
   "source": [
    "driver = webdriver.Chrome(r'C:\\Users\\prana\\Downloads\\chromedriver-win32\\chromedriver-win32\\chromedriver.exe',options=options)\n"
   ]
  },
  {
   "cell_type": "code",
   "execution_count": 116,
   "id": "2d441b32",
   "metadata": {},
   "outputs": [],
   "source": [
    "driver.get(web)\n"
   ]
  },
  {
   "cell_type": "code",
   "execution_count": 118,
   "id": "845402f7",
   "metadata": {},
   "outputs": [],
   "source": [
    "#Pagination\n",
    "pagination = driver.find_element_by_xpath('//ul[contains(@class,\"pagingElements\")]')\n",
    "pages = pagination.find_elements_by_tag_name('li')\n",
    "#last_page = int(pages[-2].text)\n",
    "current_page = 1\n",
    "book_title = []\n",
    "book_author = []\n",
    "book_length = []\n",
    "for i in pages:\n",
    "    time.sleep(2)\n",
    "    container = driver.find_element_by_class_name('adbl-impression-container ')\n",
    "    products = container.find_elements_by_xpath('.//li[contains(@class, \"productListItem\")]')\n",
    "\n",
    "    for product in products:\n",
    "        book_title.append(product.find_element_by_xpath('.//h3[contains(@class,\"bc-heading\")]').text)\n",
    "        book_author.append(product.find_element_by_xpath('.//li[contains(@class,\"authorLabel\")]').text)\n",
    "        book_length.append(product.find_element_by_xpath('.//li[contains(@class,\"runtimeLabel\")]').text)\n",
    "    \n",
    "    #current_page = current_page + 1\n",
    "    try:\n",
    "        next_page = driver.find_element_by_xpath('//span[contains(@class,\"nextButton\")]')\n",
    "        next_page.click()\n",
    "    except:\n",
    "        pass\n",
    "    \n",
    "driver.quit()"
   ]
  },
  {
   "cell_type": "code",
   "execution_count": 119,
   "id": "4856a886",
   "metadata": {},
   "outputs": [],
   "source": [
    "df = pd.DataFrame({'Title':book_title,'Author':book_author,'book_length':book_length})"
   ]
  },
  {
   "cell_type": "code",
   "execution_count": 120,
   "id": "c93ba0ce",
   "metadata": {},
   "outputs": [
    {
     "data": {
      "text/html": [
       "<div>\n",
       "<style scoped>\n",
       "    .dataframe tbody tr th:only-of-type {\n",
       "        vertical-align: middle;\n",
       "    }\n",
       "\n",
       "    .dataframe tbody tr th {\n",
       "        vertical-align: top;\n",
       "    }\n",
       "\n",
       "    .dataframe thead th {\n",
       "        text-align: right;\n",
       "    }\n",
       "</style>\n",
       "<table border=\"1\" class=\"dataframe\">\n",
       "  <thead>\n",
       "    <tr style=\"text-align: right;\">\n",
       "      <th></th>\n",
       "      <th>Title</th>\n",
       "      <th>Author</th>\n",
       "      <th>book_length</th>\n",
       "    </tr>\n",
       "  </thead>\n",
       "  <tbody>\n",
       "    <tr>\n",
       "      <th>0</th>\n",
       "      <td>The Engineer</td>\n",
       "      <td>Written by: Will Wight</td>\n",
       "      <td>Length: 11 hrs and 11 mins</td>\n",
       "    </tr>\n",
       "    <tr>\n",
       "      <th>1</th>\n",
       "      <td>Chandrakanta (Hindi Edition)</td>\n",
       "      <td>Written by: Devki Nandan Khatri</td>\n",
       "      <td>Length: 12 hrs and 41 mins</td>\n",
       "    </tr>\n",
       "    <tr>\n",
       "      <th>2</th>\n",
       "      <td>Dharmayoddha Kalki: Avatar of Vishnu</td>\n",
       "      <td>Written by: Kevin Missal</td>\n",
       "      <td>Length: 12 hrs and 34 mins</td>\n",
       "    </tr>\n",
       "    <tr>\n",
       "      <th>3</th>\n",
       "      <td>Retribution</td>\n",
       "      <td>Written by: TurtleMe</td>\n",
       "      <td>Length: 23 hrs and 7 mins</td>\n",
       "    </tr>\n",
       "    <tr>\n",
       "      <th>4</th>\n",
       "      <td>Godsfall</td>\n",
       "      <td>Written by: T. B. Mare</td>\n",
       "      <td>Length: 23 hrs and 9 mins</td>\n",
       "    </tr>\n",
       "  </tbody>\n",
       "</table>\n",
       "</div>"
      ],
      "text/plain": [
       "                                  Title                           Author  \\\n",
       "0                          The Engineer           Written by: Will Wight   \n",
       "1          Chandrakanta (Hindi Edition)  Written by: Devki Nandan Khatri   \n",
       "2  Dharmayoddha Kalki: Avatar of Vishnu         Written by: Kevin Missal   \n",
       "3                           Retribution             Written by: TurtleMe   \n",
       "4                              Godsfall           Written by: T. B. Mare   \n",
       "\n",
       "                  book_length  \n",
       "0  Length: 11 hrs and 11 mins  \n",
       "1  Length: 12 hrs and 41 mins  \n",
       "2  Length: 12 hrs and 34 mins  \n",
       "3   Length: 23 hrs and 7 mins  \n",
       "4   Length: 23 hrs and 9 mins  "
      ]
     },
     "execution_count": 120,
     "metadata": {},
     "output_type": "execute_result"
    }
   ],
   "source": [
    "df.head()"
   ]
  },
  {
   "cell_type": "code",
   "execution_count": 121,
   "id": "fe94a818",
   "metadata": {},
   "outputs": [
    {
     "data": {
      "text/plain": [
       "(120, 3)"
      ]
     },
     "execution_count": 121,
     "metadata": {},
     "output_type": "execute_result"
    }
   ],
   "source": [
    "df.shape"
   ]
  },
  {
   "cell_type": "code",
   "execution_count": 122,
   "id": "af9623f0",
   "metadata": {},
   "outputs": [
    {
     "data": {
      "text/html": [
       "<div>\n",
       "<style scoped>\n",
       "    .dataframe tbody tr th:only-of-type {\n",
       "        vertical-align: middle;\n",
       "    }\n",
       "\n",
       "    .dataframe tbody tr th {\n",
       "        vertical-align: top;\n",
       "    }\n",
       "\n",
       "    .dataframe thead th {\n",
       "        text-align: right;\n",
       "    }\n",
       "</style>\n",
       "<table border=\"1\" class=\"dataframe\">\n",
       "  <thead>\n",
       "    <tr style=\"text-align: right;\">\n",
       "      <th></th>\n",
       "      <th>Title</th>\n",
       "      <th>Author</th>\n",
       "      <th>book_length</th>\n",
       "    </tr>\n",
       "  </thead>\n",
       "  <tbody>\n",
       "    <tr>\n",
       "      <th>0</th>\n",
       "      <td>The Engineer</td>\n",
       "      <td>Written by: Will Wight</td>\n",
       "      <td>Length: 11 hrs and 11 mins</td>\n",
       "    </tr>\n",
       "    <tr>\n",
       "      <th>1</th>\n",
       "      <td>Chandrakanta (Hindi Edition)</td>\n",
       "      <td>Written by: Devki Nandan Khatri</td>\n",
       "      <td>Length: 12 hrs and 41 mins</td>\n",
       "    </tr>\n",
       "    <tr>\n",
       "      <th>2</th>\n",
       "      <td>Dharmayoddha Kalki: Avatar of Vishnu</td>\n",
       "      <td>Written by: Kevin Missal</td>\n",
       "      <td>Length: 12 hrs and 34 mins</td>\n",
       "    </tr>\n",
       "    <tr>\n",
       "      <th>3</th>\n",
       "      <td>Retribution</td>\n",
       "      <td>Written by: TurtleMe</td>\n",
       "      <td>Length: 23 hrs and 7 mins</td>\n",
       "    </tr>\n",
       "    <tr>\n",
       "      <th>4</th>\n",
       "      <td>Godsfall</td>\n",
       "      <td>Written by: T. B. Mare</td>\n",
       "      <td>Length: 23 hrs and 9 mins</td>\n",
       "    </tr>\n",
       "    <tr>\n",
       "      <th>...</th>\n",
       "      <td>...</td>\n",
       "      <td>...</td>\n",
       "      <td>...</td>\n",
       "    </tr>\n",
       "    <tr>\n",
       "      <th>115</th>\n",
       "      <td>Make Me</td>\n",
       "      <td>Written by: Lee Child</td>\n",
       "      <td>Length: 11 hrs and 42 mins</td>\n",
       "    </tr>\n",
       "    <tr>\n",
       "      <th>116</th>\n",
       "      <td>Keepers of the Kalachakra (Hindi Edition)</td>\n",
       "      <td>Written by: Ashwin Sanghi</td>\n",
       "      <td>Length: 13 hrs and 11 mins</td>\n",
       "    </tr>\n",
       "    <tr>\n",
       "      <th>117</th>\n",
       "      <td>The Sialkot Saga (Hindi Edition)</td>\n",
       "      <td>Written by: Ashwin Sanghi</td>\n",
       "      <td>Length: 18 hrs and 3 mins</td>\n",
       "    </tr>\n",
       "    <tr>\n",
       "      <th>118</th>\n",
       "      <td>Philosopher's Stone (Hindi Edition)</td>\n",
       "      <td>Written by: S. Gurjar</td>\n",
       "      <td>Length: 5 hrs and 54 mins</td>\n",
       "    </tr>\n",
       "    <tr>\n",
       "      <th>119</th>\n",
       "      <td>Elantris</td>\n",
       "      <td>Written by: Brandon Sanderson</td>\n",
       "      <td>Length: 28 hrs and 42 mins</td>\n",
       "    </tr>\n",
       "  </tbody>\n",
       "</table>\n",
       "<p>120 rows × 3 columns</p>\n",
       "</div>"
      ],
      "text/plain": [
       "                                         Title  \\\n",
       "0                                 The Engineer   \n",
       "1                 Chandrakanta (Hindi Edition)   \n",
       "2         Dharmayoddha Kalki: Avatar of Vishnu   \n",
       "3                                  Retribution   \n",
       "4                                     Godsfall   \n",
       "..                                         ...   \n",
       "115                                    Make Me   \n",
       "116  Keepers of the Kalachakra (Hindi Edition)   \n",
       "117           The Sialkot Saga (Hindi Edition)   \n",
       "118        Philosopher's Stone (Hindi Edition)   \n",
       "119                                   Elantris   \n",
       "\n",
       "                              Author                 book_length  \n",
       "0             Written by: Will Wight  Length: 11 hrs and 11 mins  \n",
       "1    Written by: Devki Nandan Khatri  Length: 12 hrs and 41 mins  \n",
       "2           Written by: Kevin Missal  Length: 12 hrs and 34 mins  \n",
       "3               Written by: TurtleMe   Length: 23 hrs and 7 mins  \n",
       "4             Written by: T. B. Mare   Length: 23 hrs and 9 mins  \n",
       "..                               ...                         ...  \n",
       "115            Written by: Lee Child  Length: 11 hrs and 42 mins  \n",
       "116        Written by: Ashwin Sanghi  Length: 13 hrs and 11 mins  \n",
       "117        Written by: Ashwin Sanghi   Length: 18 hrs and 3 mins  \n",
       "118            Written by: S. Gurjar   Length: 5 hrs and 54 mins  \n",
       "119    Written by: Brandon Sanderson  Length: 28 hrs and 42 mins  \n",
       "\n",
       "[120 rows x 3 columns]"
      ]
     },
     "execution_count": 122,
     "metadata": {},
     "output_type": "execute_result"
    }
   ],
   "source": [
    "df"
   ]
  },
  {
   "cell_type": "code",
   "execution_count": 123,
   "id": "b843aa04",
   "metadata": {},
   "outputs": [
    {
     "data": {
      "text/html": [
       "<div>\n",
       "<style scoped>\n",
       "    .dataframe tbody tr th:only-of-type {\n",
       "        vertical-align: middle;\n",
       "    }\n",
       "\n",
       "    .dataframe tbody tr th {\n",
       "        vertical-align: top;\n",
       "    }\n",
       "\n",
       "    .dataframe thead th {\n",
       "        text-align: right;\n",
       "    }\n",
       "</style>\n",
       "<table border=\"1\" class=\"dataframe\">\n",
       "  <thead>\n",
       "    <tr style=\"text-align: right;\">\n",
       "      <th></th>\n",
       "      <th>Title</th>\n",
       "      <th>Author</th>\n",
       "      <th>book_length</th>\n",
       "    </tr>\n",
       "  </thead>\n",
       "  <tbody>\n",
       "    <tr>\n",
       "      <th>count</th>\n",
       "      <td>120</td>\n",
       "      <td>120</td>\n",
       "      <td>120</td>\n",
       "    </tr>\n",
       "    <tr>\n",
       "      <th>unique</th>\n",
       "      <td>20</td>\n",
       "      <td>17</td>\n",
       "      <td>20</td>\n",
       "    </tr>\n",
       "    <tr>\n",
       "      <th>top</th>\n",
       "      <td>The Engineer</td>\n",
       "      <td>Written by: Martha Wells</td>\n",
       "      <td>Length: 11 hrs and 11 mins</td>\n",
       "    </tr>\n",
       "    <tr>\n",
       "      <th>freq</th>\n",
       "      <td>6</td>\n",
       "      <td>18</td>\n",
       "      <td>6</td>\n",
       "    </tr>\n",
       "  </tbody>\n",
       "</table>\n",
       "</div>"
      ],
      "text/plain": [
       "               Title                    Author                 book_length\n",
       "count            120                       120                         120\n",
       "unique            20                        17                          20\n",
       "top     The Engineer  Written by: Martha Wells  Length: 11 hrs and 11 mins\n",
       "freq               6                        18                           6"
      ]
     },
     "execution_count": 123,
     "metadata": {},
     "output_type": "execute_result"
    }
   ],
   "source": [
    "df.describe()"
   ]
  },
  {
   "cell_type": "code",
   "execution_count": null,
   "id": "9906e666",
   "metadata": {},
   "outputs": [],
   "source": []
  }
 ],
 "metadata": {
  "kernelspec": {
   "display_name": "Python 3 (ipykernel)",
   "language": "python",
   "name": "python3"
  },
  "language_info": {
   "codemirror_mode": {
    "name": "ipython",
    "version": 3
   },
   "file_extension": ".py",
   "mimetype": "text/x-python",
   "name": "python",
   "nbconvert_exporter": "python",
   "pygments_lexer": "ipython3",
   "version": "3.10.9"
  }
 },
 "nbformat": 4,
 "nbformat_minor": 5
}
